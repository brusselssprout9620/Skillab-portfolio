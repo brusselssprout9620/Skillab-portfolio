{
 "cells": [
  {
   "cell_type": "markdown",
   "id": "bbc870db-583d-4fde-aa65-1b70162283c5",
   "metadata": {},
   "source": [
    "### 1. Primul pas a fost de a crea setul de date si de a-l exporta ca fisier CSV, pentru a-l importa ulterior intr-un nou fisier Notebook"
   ]
  },
  {
   "cell_type": "code",
   "execution_count": 77,
   "id": "0d240409-3962-49fe-99f3-8bb5aa216685",
   "metadata": {},
   "outputs": [],
   "source": [
    "import pandas as pd"
   ]
  },
  {
   "cell_type": "code",
   "execution_count": 79,
   "id": "912bd32c-f472-480c-869c-b8932c8f46de",
   "metadata": {},
   "outputs": [
    {
     "name": "stdout",
     "output_type": "stream",
     "text": [
      "C:\\Users\\alice\\Lectii\n"
     ]
    }
   ],
   "source": [
    "import os\n",
    "print(os.getcwd())"
   ]
  },
  {
   "cell_type": "markdown",
   "id": "56d0aae2-8a55-44f4-84c4-9f8394c84a95",
   "metadata": {},
   "source": [
    "### 2. Importarea datelor (N.B.Pentru a salva fisierul din format ipynb in csv am apelat la urmatoarea formula: df.to_csv(r\"Path to store the exported CSV file\\File Name.csv\", index=False))"
   ]
  },
  {
   "cell_type": "code",
   "execution_count": 82,
   "id": "0e55144a-98ab-4f19-a0e4-e08e2e5139f1",
   "metadata": {},
   "outputs": [],
   "source": [
    "vanzari = pd.read_csv(\"C:/Users/alice/Lectii/vanzari_retail_romania.csv\")"
   ]
  },
  {
   "cell_type": "code",
   "execution_count": 84,
   "id": "abb19289-f277-4804-8dc3-4cfa5b58e76c",
   "metadata": {},
   "outputs": [
    {
     "data": {
      "text/html": [
       "<div>\n",
       "<style scoped>\n",
       "    .dataframe tbody tr th:only-of-type {\n",
       "        vertical-align: middle;\n",
       "    }\n",
       "\n",
       "    .dataframe tbody tr th {\n",
       "        vertical-align: top;\n",
       "    }\n",
       "\n",
       "    .dataframe thead th {\n",
       "        text-align: right;\n",
       "    }\n",
       "</style>\n",
       "<table border=\"1\" class=\"dataframe\">\n",
       "  <thead>\n",
       "    <tr style=\"text-align: right;\">\n",
       "      <th></th>\n",
       "      <th>ID</th>\n",
       "      <th>Nume Produs</th>\n",
       "      <th>Categorie</th>\n",
       "      <th>Pret</th>\n",
       "      <th>Discount (%)</th>\n",
       "      <th>Cantitate Vândută</th>\n",
       "      <th>Venit Brut</th>\n",
       "      <th>Oras</th>\n",
       "    </tr>\n",
       "  </thead>\n",
       "  <tbody>\n",
       "    <tr>\n",
       "      <th>0</th>\n",
       "      <td>1</td>\n",
       "      <td>Laptop</td>\n",
       "      <td>Electrocasnice</td>\n",
       "      <td>4000</td>\n",
       "      <td>10</td>\n",
       "      <td>10.0</td>\n",
       "      <td>40000</td>\n",
       "      <td>Bucuresti</td>\n",
       "    </tr>\n",
       "    <tr>\n",
       "      <th>1</th>\n",
       "      <td>2</td>\n",
       "      <td>Telefon</td>\n",
       "      <td>Electrocasnice</td>\n",
       "      <td>1500</td>\n",
       "      <td>5</td>\n",
       "      <td>NaN</td>\n",
       "      <td>75000</td>\n",
       "      <td>Cluj</td>\n",
       "    </tr>\n",
       "    <tr>\n",
       "      <th>2</th>\n",
       "      <td>3</td>\n",
       "      <td>Televizor</td>\n",
       "      <td>Electrocasnice</td>\n",
       "      <td>2000</td>\n",
       "      <td>0</td>\n",
       "      <td>30.0</td>\n",
       "      <td>60000</td>\n",
       "      <td>Timisoara</td>\n",
       "    </tr>\n",
       "    <tr>\n",
       "      <th>3</th>\n",
       "      <td>4</td>\n",
       "      <td>Frigider</td>\n",
       "      <td>Electrocasnice</td>\n",
       "      <td>3000</td>\n",
       "      <td>20</td>\n",
       "      <td>20.0</td>\n",
       "      <td>60000</td>\n",
       "      <td>Iasi</td>\n",
       "    </tr>\n",
       "    <tr>\n",
       "      <th>4</th>\n",
       "      <td>5</td>\n",
       "      <td>Laptop</td>\n",
       "      <td>Electrocasnice</td>\n",
       "      <td>4000</td>\n",
       "      <td>10</td>\n",
       "      <td>12.0</td>\n",
       "      <td>48000</td>\n",
       "      <td>Bucuresti</td>\n",
       "    </tr>\n",
       "    <tr>\n",
       "      <th>5</th>\n",
       "      <td>6</td>\n",
       "      <td>Telefon</td>\n",
       "      <td>Electrocasnice</td>\n",
       "      <td>1500</td>\n",
       "      <td>5</td>\n",
       "      <td>45.0</td>\n",
       "      <td>67500</td>\n",
       "      <td>Cluj</td>\n",
       "    </tr>\n",
       "    <tr>\n",
       "      <th>6</th>\n",
       "      <td>7</td>\n",
       "      <td>Televizor</td>\n",
       "      <td>Electrocasnice</td>\n",
       "      <td>2000</td>\n",
       "      <td>0</td>\n",
       "      <td>28.0</td>\n",
       "      <td>56000</td>\n",
       "      <td>Timisoara</td>\n",
       "    </tr>\n",
       "    <tr>\n",
       "      <th>7</th>\n",
       "      <td>8</td>\n",
       "      <td>Frigider</td>\n",
       "      <td>Electrocasnice</td>\n",
       "      <td>3000</td>\n",
       "      <td>20</td>\n",
       "      <td>NaN</td>\n",
       "      <td>54000</td>\n",
       "      <td>Iasi</td>\n",
       "    </tr>\n",
       "    <tr>\n",
       "      <th>8</th>\n",
       "      <td>9</td>\n",
       "      <td>Laptop</td>\n",
       "      <td>Electrocasnice</td>\n",
       "      <td>4000</td>\n",
       "      <td>10</td>\n",
       "      <td>12.0</td>\n",
       "      <td>48000</td>\n",
       "      <td>Bucuresti</td>\n",
       "    </tr>\n",
       "    <tr>\n",
       "      <th>9</th>\n",
       "      <td>10</td>\n",
       "      <td>Telefon</td>\n",
       "      <td>Electrocasnice</td>\n",
       "      <td>1500</td>\n",
       "      <td>5</td>\n",
       "      <td>55.0</td>\n",
       "      <td>82500</td>\n",
       "      <td>Cluj</td>\n",
       "    </tr>\n",
       "    <tr>\n",
       "      <th>10</th>\n",
       "      <td>11</td>\n",
       "      <td>Televizor</td>\n",
       "      <td>Electrocasnice</td>\n",
       "      <td>2000</td>\n",
       "      <td>0</td>\n",
       "      <td>32.0</td>\n",
       "      <td>64000</td>\n",
       "      <td>Timisoara</td>\n",
       "    </tr>\n",
       "    <tr>\n",
       "      <th>11</th>\n",
       "      <td>12</td>\n",
       "      <td>Frigider</td>\n",
       "      <td>Electrocasnice</td>\n",
       "      <td>3000</td>\n",
       "      <td>20</td>\n",
       "      <td>25.0</td>\n",
       "      <td>75000</td>\n",
       "      <td>Iasi</td>\n",
       "    </tr>\n",
       "  </tbody>\n",
       "</table>\n",
       "</div>"
      ],
      "text/plain": [
       "    ID Nume Produs       Categorie  Pret  Discount (%)  Cantitate Vândută  \\\n",
       "0    1      Laptop  Electrocasnice  4000            10               10.0   \n",
       "1    2     Telefon  Electrocasnice  1500             5                NaN   \n",
       "2    3   Televizor  Electrocasnice  2000             0               30.0   \n",
       "3    4    Frigider  Electrocasnice  3000            20               20.0   \n",
       "4    5      Laptop  Electrocasnice  4000            10               12.0   \n",
       "5    6     Telefon  Electrocasnice  1500             5               45.0   \n",
       "6    7   Televizor  Electrocasnice  2000             0               28.0   \n",
       "7    8    Frigider  Electrocasnice  3000            20                NaN   \n",
       "8    9      Laptop  Electrocasnice  4000            10               12.0   \n",
       "9   10     Telefon  Electrocasnice  1500             5               55.0   \n",
       "10  11   Televizor  Electrocasnice  2000             0               32.0   \n",
       "11  12    Frigider  Electrocasnice  3000            20               25.0   \n",
       "\n",
       "    Venit Brut       Oras  \n",
       "0        40000  Bucuresti  \n",
       "1        75000       Cluj  \n",
       "2        60000  Timisoara  \n",
       "3        60000       Iasi  \n",
       "4        48000  Bucuresti  \n",
       "5        67500       Cluj  \n",
       "6        56000  Timisoara  \n",
       "7        54000       Iasi  \n",
       "8        48000  Bucuresti  \n",
       "9        82500       Cluj  \n",
       "10       64000  Timisoara  \n",
       "11       75000       Iasi  "
      ]
     },
     "execution_count": 84,
     "metadata": {},
     "output_type": "execute_result"
    }
   ],
   "source": [
    "vanzari"
   ]
  },
  {
   "cell_type": "code",
   "execution_count": 86,
   "id": "31f82df2-07da-436c-aef3-5e315f2e9c67",
   "metadata": {},
   "outputs": [],
   "source": [
    "import statistics"
   ]
  },
  {
   "cell_type": "code",
   "execution_count": 88,
   "id": "3abdc604-3e15-4bcf-a825-0ef9c664bdb9",
   "metadata": {},
   "outputs": [],
   "source": [
    "df = pd.read_csv(\"C:/Users/alice/Lectii/vanzari_retail_romania.csv\")"
   ]
  },
  {
   "cell_type": "markdown",
   "id": "a986303a-216d-407a-ba3d-13b737a9fe75",
   "metadata": {},
   "source": [
    "### 3. Inspectarea Datelor"
   ]
  },
  {
   "cell_type": "code",
   "execution_count": 91,
   "id": "9fa606a2-987c-496c-82fe-f3866838e4a7",
   "metadata": {},
   "outputs": [
    {
     "data": {
      "text/html": [
       "<div>\n",
       "<style scoped>\n",
       "    .dataframe tbody tr th:only-of-type {\n",
       "        vertical-align: middle;\n",
       "    }\n",
       "\n",
       "    .dataframe tbody tr th {\n",
       "        vertical-align: top;\n",
       "    }\n",
       "\n",
       "    .dataframe thead th {\n",
       "        text-align: right;\n",
       "    }\n",
       "</style>\n",
       "<table border=\"1\" class=\"dataframe\">\n",
       "  <thead>\n",
       "    <tr style=\"text-align: right;\">\n",
       "      <th></th>\n",
       "      <th>ID</th>\n",
       "      <th>Nume Produs</th>\n",
       "      <th>Categorie</th>\n",
       "      <th>Pret</th>\n",
       "      <th>Discount (%)</th>\n",
       "      <th>Cantitate Vândută</th>\n",
       "      <th>Venit Brut</th>\n",
       "      <th>Oras</th>\n",
       "    </tr>\n",
       "  </thead>\n",
       "  <tbody>\n",
       "    <tr>\n",
       "      <th>0</th>\n",
       "      <td>1</td>\n",
       "      <td>Laptop</td>\n",
       "      <td>Electrocasnice</td>\n",
       "      <td>4000</td>\n",
       "      <td>10</td>\n",
       "      <td>10.0</td>\n",
       "      <td>40000</td>\n",
       "      <td>Bucuresti</td>\n",
       "    </tr>\n",
       "    <tr>\n",
       "      <th>1</th>\n",
       "      <td>2</td>\n",
       "      <td>Telefon</td>\n",
       "      <td>Electrocasnice</td>\n",
       "      <td>1500</td>\n",
       "      <td>5</td>\n",
       "      <td>NaN</td>\n",
       "      <td>75000</td>\n",
       "      <td>Cluj</td>\n",
       "    </tr>\n",
       "    <tr>\n",
       "      <th>2</th>\n",
       "      <td>3</td>\n",
       "      <td>Televizor</td>\n",
       "      <td>Electrocasnice</td>\n",
       "      <td>2000</td>\n",
       "      <td>0</td>\n",
       "      <td>30.0</td>\n",
       "      <td>60000</td>\n",
       "      <td>Timisoara</td>\n",
       "    </tr>\n",
       "    <tr>\n",
       "      <th>3</th>\n",
       "      <td>4</td>\n",
       "      <td>Frigider</td>\n",
       "      <td>Electrocasnice</td>\n",
       "      <td>3000</td>\n",
       "      <td>20</td>\n",
       "      <td>20.0</td>\n",
       "      <td>60000</td>\n",
       "      <td>Iasi</td>\n",
       "    </tr>\n",
       "    <tr>\n",
       "      <th>4</th>\n",
       "      <td>5</td>\n",
       "      <td>Laptop</td>\n",
       "      <td>Electrocasnice</td>\n",
       "      <td>4000</td>\n",
       "      <td>10</td>\n",
       "      <td>12.0</td>\n",
       "      <td>48000</td>\n",
       "      <td>Bucuresti</td>\n",
       "    </tr>\n",
       "  </tbody>\n",
       "</table>\n",
       "</div>"
      ],
      "text/plain": [
       "   ID Nume Produs       Categorie  Pret  Discount (%)  Cantitate Vândută  \\\n",
       "0   1      Laptop  Electrocasnice  4000            10               10.0   \n",
       "1   2     Telefon  Electrocasnice  1500             5                NaN   \n",
       "2   3   Televizor  Electrocasnice  2000             0               30.0   \n",
       "3   4    Frigider  Electrocasnice  3000            20               20.0   \n",
       "4   5      Laptop  Electrocasnice  4000            10               12.0   \n",
       "\n",
       "   Venit Brut       Oras  \n",
       "0       40000  Bucuresti  \n",
       "1       75000       Cluj  \n",
       "2       60000  Timisoara  \n",
       "3       60000       Iasi  \n",
       "4       48000  Bucuresti  "
      ]
     },
     "execution_count": 91,
     "metadata": {},
     "output_type": "execute_result"
    }
   ],
   "source": [
    "# Afișarea setului de date creat \n",
    "df.head()"
   ]
  },
  {
   "cell_type": "code",
   "execution_count": 93,
   "id": "6308e22c-3f1d-4bad-96d6-1df6baa05e10",
   "metadata": {},
   "outputs": [
    {
     "name": "stdout",
     "output_type": "stream",
     "text": [
      "<class 'pandas.core.frame.DataFrame'>\n",
      "RangeIndex: 12 entries, 0 to 11\n",
      "Data columns (total 8 columns):\n",
      " #   Column             Non-Null Count  Dtype  \n",
      "---  ------             --------------  -----  \n",
      " 0   ID                 12 non-null     int64  \n",
      " 1   Nume Produs        12 non-null     object \n",
      " 2   Categorie          12 non-null     object \n",
      " 3   Pret               12 non-null     int64  \n",
      " 4   Discount (%)       12 non-null     int64  \n",
      " 5   Cantitate Vândută  10 non-null     float64\n",
      " 6   Venit Brut         12 non-null     int64  \n",
      " 7   Oras               12 non-null     object \n",
      "dtypes: float64(1), int64(4), object(3)\n",
      "memory usage: 900.0+ bytes\n"
     ]
    }
   ],
   "source": [
    "df.info()"
   ]
  },
  {
   "cell_type": "code",
   "execution_count": 95,
   "id": "b27b1559-748f-4a23-9f4b-72af9e2557fd",
   "metadata": {},
   "outputs": [
    {
     "data": {
      "text/html": [
       "<div>\n",
       "<style scoped>\n",
       "    .dataframe tbody tr th:only-of-type {\n",
       "        vertical-align: middle;\n",
       "    }\n",
       "\n",
       "    .dataframe tbody tr th {\n",
       "        vertical-align: top;\n",
       "    }\n",
       "\n",
       "    .dataframe thead th {\n",
       "        text-align: right;\n",
       "    }\n",
       "</style>\n",
       "<table border=\"1\" class=\"dataframe\">\n",
       "  <thead>\n",
       "    <tr style=\"text-align: right;\">\n",
       "      <th></th>\n",
       "      <th>ID</th>\n",
       "      <th>Nume Produs</th>\n",
       "      <th>Categorie</th>\n",
       "      <th>Pret</th>\n",
       "      <th>Discount (%)</th>\n",
       "      <th>Cantitate Vândută</th>\n",
       "      <th>Venit Brut</th>\n",
       "      <th>Oras</th>\n",
       "    </tr>\n",
       "  </thead>\n",
       "  <tbody>\n",
       "    <tr>\n",
       "      <th>0</th>\n",
       "      <td>1</td>\n",
       "      <td>Laptop</td>\n",
       "      <td>Electrocasnice</td>\n",
       "      <td>4000</td>\n",
       "      <td>10</td>\n",
       "      <td>10.0</td>\n",
       "      <td>40000</td>\n",
       "      <td>Bucuresti</td>\n",
       "    </tr>\n",
       "    <tr>\n",
       "      <th>1</th>\n",
       "      <td>2</td>\n",
       "      <td>Telefon</td>\n",
       "      <td>Electrocasnice</td>\n",
       "      <td>1500</td>\n",
       "      <td>5</td>\n",
       "      <td>NaN</td>\n",
       "      <td>75000</td>\n",
       "      <td>Cluj</td>\n",
       "    </tr>\n",
       "    <tr>\n",
       "      <th>2</th>\n",
       "      <td>3</td>\n",
       "      <td>Televizor</td>\n",
       "      <td>Electrocasnice</td>\n",
       "      <td>2000</td>\n",
       "      <td>0</td>\n",
       "      <td>30.0</td>\n",
       "      <td>60000</td>\n",
       "      <td>Timisoara</td>\n",
       "    </tr>\n",
       "    <tr>\n",
       "      <th>3</th>\n",
       "      <td>4</td>\n",
       "      <td>Frigider</td>\n",
       "      <td>Electrocasnice</td>\n",
       "      <td>3000</td>\n",
       "      <td>20</td>\n",
       "      <td>20.0</td>\n",
       "      <td>60000</td>\n",
       "      <td>Iasi</td>\n",
       "    </tr>\n",
       "    <tr>\n",
       "      <th>4</th>\n",
       "      <td>5</td>\n",
       "      <td>Laptop</td>\n",
       "      <td>Electrocasnice</td>\n",
       "      <td>4000</td>\n",
       "      <td>10</td>\n",
       "      <td>12.0</td>\n",
       "      <td>48000</td>\n",
       "      <td>Bucuresti</td>\n",
       "    </tr>\n",
       "  </tbody>\n",
       "</table>\n",
       "</div>"
      ],
      "text/plain": [
       "   ID Nume Produs       Categorie  Pret  Discount (%)  Cantitate Vândută  \\\n",
       "0   1      Laptop  Electrocasnice  4000            10               10.0   \n",
       "1   2     Telefon  Electrocasnice  1500             5                NaN   \n",
       "2   3   Televizor  Electrocasnice  2000             0               30.0   \n",
       "3   4    Frigider  Electrocasnice  3000            20               20.0   \n",
       "4   5      Laptop  Electrocasnice  4000            10               12.0   \n",
       "\n",
       "   Venit Brut       Oras  \n",
       "0       40000  Bucuresti  \n",
       "1       75000       Cluj  \n",
       "2       60000  Timisoara  \n",
       "3       60000       Iasi  \n",
       "4       48000  Bucuresti  "
      ]
     },
     "execution_count": 95,
     "metadata": {},
     "output_type": "execute_result"
    }
   ],
   "source": [
    "df_imported = pd.read_csv('vanzari_retail_romania.csv')\n",
    "df_imported.head()"
   ]
  },
  {
   "cell_type": "markdown",
   "id": "e8d8b269-8add-48b2-87d1-c64320190097",
   "metadata": {},
   "source": [
    "### 4. Curățarea Datelor"
   ]
  },
  {
   "cell_type": "markdown",
   "id": "fc1fa15f-c63c-431e-9d2c-faf5d5a2d88d",
   "metadata": {},
   "source": [
    "##### 1. Eliminarea valorilor lipsă:"
   ]
  },
  {
   "cell_type": "code",
   "execution_count": 99,
   "id": "128255e4-baf4-4002-bddd-80ef4616eddd",
   "metadata": {},
   "outputs": [],
   "source": [
    "df_cleaned = df_imported.dropna(subset=['Cantitate Vândută'])"
   ]
  },
  {
   "cell_type": "markdown",
   "id": "22ab0db0-9f7e-4a01-9000-1a828404536f",
   "metadata": {},
   "source": [
    "##### 2. Imputarea valorilor lipsă:"
   ]
  },
  {
   "cell_type": "code",
   "execution_count": 102,
   "id": "aac5741d-d50c-4c4a-9ad6-38f84039b63f",
   "metadata": {},
   "outputs": [],
   "source": [
    "# Imputarea valorilor lipsă în 'Pret' și 'Discount (%)' folosind .loc\n",
    "df_cleaned.loc[:, 'Pret'] = df_cleaned['Pret'].fillna(df_cleaned['Pret'].mean())\n",
    "df_cleaned.loc[:, 'Discount (%)'] = df_cleaned['Discount (%)'].fillna(df_cleaned['Discount (%)'].median())"
   ]
  },
  {
   "cell_type": "markdown",
   "id": "c01ac672-0d03-4c57-bf3e-66748782889e",
   "metadata": {},
   "source": [
    "##### 3. Eliminarea duplicatelor:"
   ]
  },
  {
   "cell_type": "code",
   "execution_count": 105,
   "id": "5f5a355d-2bd3-4ca2-a418-6512df0147a1",
   "metadata": {},
   "outputs": [],
   "source": [
    "# Eliminarea rândurilor duplicate\n",
    "df_cleaned = df_cleaned.drop_duplicates()"
   ]
  },
  {
   "cell_type": "markdown",
   "id": "cade6e2b-c44e-4f7d-a31e-9f0f60920022",
   "metadata": {},
   "source": [
    "##### 4. Corectarea tipurilor de date:"
   ]
  },
  {
   "cell_type": "code",
   "execution_count": 108,
   "id": "4c9837e4-959d-46db-9a30-b2bd1f3a4409",
   "metadata": {},
   "outputs": [],
   "source": [
    "# Asigurarea tipurilor de date corecte\n",
    "df_cleaned['Pret'] = df_cleaned['Pret'].astype(float)\n",
    "df_cleaned['Cantitate Vândută'] = df_cleaned['Cantitate Vândută'].astype(float)"
   ]
  },
  {
   "cell_type": "markdown",
   "id": "948cfbaf-6e80-4682-80f3-8a545e92c76c",
   "metadata": {},
   "source": [
    "### 5. Transformarea Datelor"
   ]
  },
  {
   "cell_type": "markdown",
   "id": "38049b4c-c32f-4be7-bcd5-c218c492cc88",
   "metadata": {},
   "source": [
    "##### 1. Normalizarea coloanei 'Pret':"
   ]
  },
  {
   "cell_type": "code",
   "execution_count": 127,
   "id": "800c6ddb-8a34-4187-afb2-590880085449",
   "metadata": {},
   "outputs": [],
   "source": [
    "# Normalizarea prețurilor\n",
    "df_cleaned['Pret_Normalizat'] = (df_cleaned['Pret'] - df_cleaned['Pret'].min()) / (df_cleaned['Pret'].max() - df_cleaned['Pret'].min())"
   ]
  },
  {
   "cell_type": "markdown",
   "id": "859d7559-9af5-4265-a297-6f79e012d809",
   "metadata": {},
   "source": [
    "##### 2. Crearea de noi coloane:"
   ]
  },
  {
   "cell_type": "code",
   "execution_count": 130,
   "id": "edc3be6e-b751-4493-bab7-4af778e55503",
   "metadata": {},
   "outputs": [],
   "source": [
    "# Calculul veniturilor nete și pe produs\n",
    "df_cleaned['Venit Net'] = df_cleaned['Venit Brut'] * (1 - df_cleaned['Discount (%)'] / 100)\n",
    "df_cleaned['Venit per Produs'] = df_cleaned['Venit Net'] / df_cleaned['Cantitate Vândută']"
   ]
  },
  {
   "cell_type": "markdown",
   "id": "40aa80a1-9d2c-4ce6-b45f-e737bc08ce6c",
   "metadata": {},
   "source": [
    "### 6. Agregarea Datelor"
   ]
  },
  {
   "cell_type": "markdown",
   "id": "fe2f4334-3027-423b-bf70-2517ef6447ca",
   "metadata": {},
   "source": [
    "##### 1. Calculul veniturilor totale pe oraș:"
   ]
  },
  {
   "cell_type": "code",
   "execution_count": 134,
   "id": "13f5b970-52b2-4c92-a5f5-f73c0a3df490",
   "metadata": {},
   "outputs": [],
   "source": [
    "venituri_totale_oras = df_cleaned.groupby('Oras')['Venit Brut'].sum()"
   ]
  },
  {
   "cell_type": "markdown",
   "id": "3b6e33b3-14e6-48da-9eb5-28ecb972eae8",
   "metadata": {},
   "source": [
    "##### 2. Calculul mediei cantităților vândute pe produs:"
   ]
  },
  {
   "cell_type": "code",
   "execution_count": 137,
   "id": "59f2ad3a-fd7f-42a7-a283-a9dd2dc5ccf3",
   "metadata": {},
   "outputs": [],
   "source": [
    "# Calcularea mediei cantităților vândute pentru fiecare tip de produs\n",
    "media_cantitate_produs = df_cleaned.groupby('Nume Produs')['Cantitate Vândută'].mean()"
   ]
  },
  {
   "cell_type": "markdown",
   "id": "5b87b096-8fbe-4386-ac0a-2f0c2e00d8e9",
   "metadata": {},
   "source": [
    "### 7. Exportarea Datelor Curățate"
   ]
  },
  {
   "cell_type": "code",
   "execution_count": 140,
   "id": "ad6545ec-4dff-4bf7-97b6-38e0cb78895f",
   "metadata": {},
   "outputs": [],
   "source": [
    "# Exportarea datelor curățate într-un fișier CSV\n",
    "df_cleaned.to_csv('vanzari_retail_romania_curatat.csv', index=False)"
   ]
  },
  {
   "cell_type": "code",
   "execution_count": null,
   "id": "c87d1e41-dbd9-4fe7-ba29-7410997cb7fd",
   "metadata": {},
   "outputs": [],
   "source": []
  },
  {
   "cell_type": "code",
   "execution_count": null,
   "id": "96a3fb72-7e48-44a7-98a2-b6555acfe45d",
   "metadata": {},
   "outputs": [],
   "source": []
  }
 ],
 "metadata": {
  "kernelspec": {
   "display_name": "Python 3 (ipykernel)",
   "language": "python",
   "name": "python3"
  },
  "language_info": {
   "codemirror_mode": {
    "name": "ipython",
    "version": 3
   },
   "file_extension": ".py",
   "mimetype": "text/x-python",
   "name": "python",
   "nbconvert_exporter": "python",
   "pygments_lexer": "ipython3",
   "version": "3.12.4"
  }
 },
 "nbformat": 4,
 "nbformat_minor": 5
}
